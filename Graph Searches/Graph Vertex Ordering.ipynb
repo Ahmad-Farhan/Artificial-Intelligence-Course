{
 "cells": [
  {
   "cell_type": "markdown",
   "metadata": {},
   "source": [
    "**Assignment 1**\n",
    "----------------------------------\n",
    "**Name** : *Ahmad Farhan* <br>\n",
    "**Roll No.** : *i211366* <br>\n",
    "**Section** : *A* <br>\n",
    "__________________________________"
   ]
  },
  {
   "cell_type": "code",
   "execution_count": 71,
   "metadata": {},
   "outputs": [],
   "source": [
    "import heapq                    # UCS\n",
    "from collections import deque   # BFS, DFS"
   ]
  },
  {
   "cell_type": "code",
   "execution_count": 72,
   "metadata": {},
   "outputs": [],
   "source": [
    "class Graph:\n",
    "    '''\n",
    "    Adjecency List based Graph Data Structure\n",
    "    Attributes:\n",
    "        graph (dict): Dictionary mapping vertices to (parent_set, cost)\n",
    "        nkeys (int): Total number of vertices in graph\n",
    "    '''\n",
    "    def __init__(self):\n",
    "        '''Constructor: Initializes graph attributes'''\n",
    "        self.graph = dict()\n",
    "        self.nkeys = 0\n",
    "\n",
    "    def add_edge(self, vertex, parent_set, cost):\n",
    "        ''' Adds a potential edge as vertex: (parent_set, cost)'''\n",
    "        if vertex not in self.graph: \n",
    "            self.graph[vertex] = []; self.nkeys += 1\n",
    "        self.graph[vertex].append((parent_set, cost))\n",
    "\n",
    "    def get_vertices(self):\n",
    "        ''' Returns a tuple of all the vertices in graph '''\n",
    "        return tuple(self.graph.keys())\n",
    "\n",
    "    def mcc(self, vertex, ordering):\n",
    "        ''' \n",
    "        Minimum Cost Computation for a given vertex and ordering\n",
    "        Args: \n",
    "            Vertex (int): Vertex for which mininum cost is being calculated\n",
    "            ordering (tuple): Current Ordering of Vertices\n",
    "        Returns: (float) Minimum Cost of vertex within given ordering\n",
    "        '''\n",
    "        min_cost = float('inf')\n",
    "        # Initializing a boolean array as a hashtable\n",
    "        ordering_hash = [False] * (self.nkeys + 1)\n",
    "        # Mark Vertices Available in ordering as True\n",
    "        for v in ordering: ordering_hash[v] = True\n",
    "\n",
    "        # Iterate over each parent_set, cost pair associated with current vertex\n",
    "        for parent_set, cost in self.graph[vertex]:\n",
    "            # If all vertices of parent_set are available in ordering\n",
    "            if all(ordering_hash[parent] for parent in parent_set):\n",
    "                min_cost = min(min_cost, cost)  # Update minimum cost\n",
    "        \n",
    "        return min_cost\n",
    "\n",
    "    def new_node(self, vertex, total_cost, ordering, remaining):\n",
    "        '''\n",
    "        Create a Node to explore later\n",
    "        Args:\n",
    "            vertex (int): The vertex to search.\n",
    "            total_cost (float): The total cost so far.\n",
    "            ordering (tuple): The current ordering of vertices.\n",
    "            remaining (tuple): The remaining vertices to explore.\n",
    "        Returns: (tuple) updated cost, ordering, and remaining vertices\n",
    "        '''\n",
    "        # Add current vertex to ordering\n",
    "        new_ordering = ordering + (vertex,)\n",
    "        # Remove current vertex from remaining vertices to explore\n",
    "        new_remaining = tuple(v for v in remaining if v != vertex)\n",
    "        # Add cost till now with minimum possible cost within ordering\n",
    "        new_total_cost = total_cost + self.mcc(vertex, ordering)\n",
    "        return new_total_cost, new_ordering, new_remaining"
   ]
  },
  {
   "cell_type": "code",
   "execution_count": 73,
   "metadata": {},
   "outputs": [],
   "source": [
    "def parse_file(filename):\n",
    "    ''' Parses data from file to construct a graph\n",
    "        Args: Filename (str)\n",
    "        Returns: Graph (graph)\n",
    "    '''\n",
    "    file = open(f'../Assignments/Data/{filename}')\n",
    "    graph = Graph() \n",
    "\n",
    "    for line in file:\n",
    "        # First and Last values are vertex and parent set edge cost (ignore the rest)\n",
    "        vertex, *dump, cost = line.split(',')\n",
    "\n",
    "        # Isolate Parent Set and remove braces\n",
    "        parents = line.split('{')[1].split('}')[0]\n",
    "\n",
    "        # Convert parent of the set to vertices into a tuple\n",
    "        pset = tuple(int(p) for p in parents.split(',')) if parents != '' else tuple()\n",
    "        graph.add_edge(int(vertex), pset, float(cost))\n",
    "    \n",
    "    file.close()\n",
    "    return graph"
   ]
  },
  {
   "cell_type": "code",
   "execution_count": 74,
   "metadata": {},
   "outputs": [],
   "source": [
    "# Uniform Cost Search\n",
    "def ucs(graph, vertices):\n",
    "        \n",
    "    # Initialize open queue with initial state\n",
    "    frontier = []\n",
    "    heapq.heappush(frontier, (0, tuple(), vertices))\n",
    "\n",
    "    while(frontier):\n",
    "        # Pop Node with lowest cost\n",
    "        total_cost, ordering, remaining = heapq.heappop(frontier)\n",
    "\n",
    "        # If all vertices have been visited\n",
    "        if len(ordering) == len(vertices): break\n",
    "        else: # Create all possible child orderings from current ordering\n",
    "            for vertex in remaining:\n",
    "                node = graph.new_node(vertex, total_cost, ordering, remaining)\n",
    "                heapq.heappush(frontier, node)  # Add searchable ordering node to heap\n",
    "\n",
    "    return total_cost, ordering"
   ]
  },
  {
   "cell_type": "code",
   "execution_count": 75,
   "metadata": {},
   "outputs": [],
   "source": [
    "# Breadth First Search\n",
    "def bfs(graph, vertices):\n",
    "\n",
    "    # Initialize open queue with initial state\n",
    "    frontier, min_cost = deque(), float('inf')\n",
    "    frontier.append((0, tuple(), vertices))\n",
    "    min_ordering = None\n",
    "\n",
    "    while(frontier):\n",
    "        # Pop Node as FIFO (queue)\n",
    "        total_cost, ordering, remaining = frontier.popleft()\n",
    "\n",
    "        # If no remaining, then possible min_ordering obtained\n",
    "        if not remaining:\n",
    "            if total_cost < min_cost:\n",
    "                min_cost = total_cost\n",
    "                min_ordering = ordering\n",
    "        else: # Create all possible child orderings from current ordering\n",
    "            for vertex in remaining:\n",
    "                node = graph.new_node(vertex, total_cost, ordering, remaining)\n",
    "                frontier.append(node)   # Add searchable ordering node to queue\n",
    "\n",
    "    return min_cost, min_ordering"
   ]
  },
  {
   "cell_type": "code",
   "execution_count": 76,
   "metadata": {},
   "outputs": [],
   "source": [
    "# Deapth First Search \n",
    "def dfs(graph, vertices):\n",
    "    \n",
    "    # Initialize open queue with initial state\n",
    "    frontier, min_cost = deque(), float('inf')\n",
    "    frontier.append((0, tuple(), vertices))\n",
    "    min_ordering = None\n",
    "\n",
    "    while(frontier):\n",
    "        # Pop Node as FILO (stack)\n",
    "        total_cost, ordering, remaining = frontier.pop()\n",
    "\n",
    "        # If no remaining, then possible min_ordering obtained\n",
    "        if not remaining:\n",
    "            if total_cost < min_cost:\n",
    "                min_cost, min_ordering = total_cost, ordering\n",
    "        else: # Create all possible child orderings from current ordering\n",
    "            for vertex in remaining:\n",
    "                node = graph.new_node(vertex, total_cost, ordering, remaining)\n",
    "                frontier.append(node)   # Add searchable ordering node to queue\n",
    "\n",
    "    return min_cost, min_ordering"
   ]
  },
  {
   "cell_type": "markdown",
   "metadata": {},
   "source": [
    "### Algorithm Comparisons ###"
   ]
  },
  {
   "cell_type": "code",
   "execution_count": 77,
   "metadata": {},
   "outputs": [
    {
     "name": "stdout",
     "output_type": "stream",
     "text": [
      "Graph Vertices : (1, 2, 3, 4, 5)\n"
     ]
    }
   ],
   "source": [
    "graph = parse_file('data0.txt')\n",
    "vertices = graph.get_vertices()\n",
    "print(\"Graph Vertices :\",vertices)"
   ]
  },
  {
   "cell_type": "code",
   "execution_count": 78,
   "metadata": {},
   "outputs": [
    {
     "name": "stdout",
     "output_type": "stream",
     "text": [
      "BFS: 465.434 - (4, 2, 5, 3, 1) \n"
     ]
    }
   ],
   "source": [
    "min_cost, ordering = bfs(graph, vertices)\n",
    "print(f\"BFS: {min_cost:.3f} - {ordering} \")"
   ]
  },
  {
   "cell_type": "code",
   "execution_count": 79,
   "metadata": {},
   "outputs": [
    {
     "name": "stdout",
     "output_type": "stream",
     "text": [
      "DFS: 465.434 - (5, 4, 3, 1, 2) \n"
     ]
    }
   ],
   "source": [
    "min_cost, ordering = dfs(graph, vertices)\n",
    "print(f\"DFS: {min_cost:.3f} - {ordering} \")"
   ]
  },
  {
   "cell_type": "code",
   "execution_count": 80,
   "metadata": {},
   "outputs": [
    {
     "name": "stdout",
     "output_type": "stream",
     "text": [
      "UCS: 465.434 - (4, 2, 5, 3, 1) \n"
     ]
    }
   ],
   "source": [
    "min_cost, ordering = ucs(graph, vertices)\n",
    "print(f\"UCS: {min_cost:.3f} - {ordering} \")"
   ]
  },
  {
   "cell_type": "markdown",
   "metadata": {},
   "source": [
    "### Conclusion\n",
    "Pure BFS, DFS and UCS are not optimal enough to run data1.txt and data3.txt <Br>\n",
    "Using the known time and space complexities of these algorithms, an estimated time and space needed are as such:\n",
    "<br><br>\n",
    "\n",
    "Search Algorithm Complexities:\n",
    "|               |       BFS        |       DFS        |       UFS        |\n",
    "|---------------|------------------|------------------|------------------|\n",
    "|Time           |   $O(b^{d+1})$   |     $O(b^m)$     |  $O(b^(C^*/e))$  |\n",
    "|Space          |   $O(b^{d+1})$   |     $O(bm)$      |  $O(b^(C^*/e))$  |\n",
    "\n",
    "\n",
    "***data1.txt*** <br>\n",
    "- Vertices = 18\n",
    "- Edges = 220\n",
    "- b = Vertices = 18\n",
    "- d = m = Vertices = 18\n",
    "- Search Space = |Orderings| = 6.40237e+15\n",
    "\n",
    "**data2.txt** <br>\n",
    "- Vertices = 19\n",
    "- Edges = 720\n",
    "- b = Vertices\n",
    "- d = m = Vertices\n",
    "- Search Space = |Orderings| = 1.21645e+17\n",
    "\n",
    "Note: For a perspective, this laptop evaluated 7 million orderings in 1.5 hours using approx. 4 Gb RAM throughout execution. <br>\n",
    "To evaluate 6.40237e+15 search space (data1.txt): <br>\n",
    "Estimated time = 156,555 years\n",
    "__________________________________________________________"
   ]
  },
  {
   "cell_type": "markdown",
   "metadata": {},
   "source": [
    "#### Extras (Attempted Optimization)\n",
    "Following algorithms are optimizations of above search algorithms where drastically fewer orderings are considered to give a close approximation of minimum (not always actual minimum). Runtime of data1.txt brought down to 52 mins <br>\n",
    "\n",
    "Note: Consider below code only as an attempt at optimization. If only one solution is to be accepted then please consider above (slower) versions as final as they offer completeness with optimality"
   ]
  },
  {
   "cell_type": "code",
   "execution_count": 84,
   "metadata": {},
   "outputs": [],
   "source": [
    "def mcc(parents, next_vertex, visited):\n",
    "    min_cost = float('inf')\n",
    "    for parent_set, cost in parents:\n",
    "        if (all(parent not in visited for parent in parent_set)):\n",
    "            if next_vertex in parent_set:\n",
    "                min_cost = min(min_cost, cost)\n",
    "    return min_cost\n",
    "\n",
    "def initqueue(graph, start_vertex):\n",
    "    '''Initialize Queue with possible parents of starting vertices'''\n",
    "    queue = deque() \n",
    "    parent_sets = graph.graph[start_vertex]\n",
    "\n",
    "    for next_vertex, cost in parent_sets:\n",
    "        if(len(next_vertex) == 1):\n",
    "            visited = next_vertex + (start_vertex,)\n",
    "            c = []\n",
    "            queue.append((next_vertex[0], visited, mcc(parent_sets, next_vertex[0], c)))\n",
    "    return queue\n",
    "\n",
    "def initheap(graph, start_vertex):\n",
    "    '''Initialize Heap with possible parents of starting vertices'''\n",
    "    queue = [] \n",
    "    parent_sets = graph.graph[start_vertex]\n",
    "\n",
    "    for next_vertex, cost in parent_sets:\n",
    "        if(len(next_vertex) == 1):\n",
    "            visited = next_vertex + (start_vertex,)\n",
    "            heapq.heappush(queue, (cost, next_vertex[0], visited))\n",
    "    return queue\n",
    "\n",
    "def mccv(tordering, graph):\n",
    "    '''Calculates min cost of given ordering'''\n",
    "    visited, total_cost = [], 0\n",
    "    for vertex in tordering:\n",
    "        min_cost = float('inf')\n",
    "        nodes = graph[vertex]\n",
    "        for parent_set in nodes:\n",
    "            if all(parent in visited for parent in parent_set):\n",
    "                min_cost = min(min_cost, nodes[parent_set])\n",
    "        total_cost += min_cost\n",
    "        visited.append(vertex)\n",
    "    return total_cost\n",
    "\n",
    "def obfs(graph, vertex): pass\n",
    "def odfs(graph, vertex): pass\n",
    "def oucs(graph, vertex): pass\n",
    "\n",
    "def run_algo(algo):\n",
    "    '''Control Function of optimized versions of algorithms'''\n",
    "    algorithm = None\n",
    "    if algo == 'bfs': algorithm = obfs\n",
    "    elif algo == 'dfs': algorithm = odfs\n",
    "    elif algo == 'ucs': algorithm = oucs\n",
    "    else: print(\"Invalid Algorithm\"); exit()\n",
    "\n",
    "    s = []\n",
    "    for vertex in vertices: s += (algorithm(graph, vertex))\n",
    "    for ordering, cost in s: cost = mccv(ordering,graph.graph)\n",
    "    s = sorted(s, key=lambda x:x[1])\n",
    "    print(\"\\nFinal Results :\", s[0])\n",
    "    print(\"Orderings considered: \", len(s))\n"
   ]
  },
  {
   "cell_type": "code",
   "execution_count": 82,
   "metadata": {},
   "outputs": [],
   "source": [
    "def obfs(graph, start_vertex):\n",
    "    '''Optimzed BFS'''\n",
    "    orderings = []\n",
    "    queue = initqueue(graph, start_vertex)\n",
    "\n",
    "    while queue:\n",
    "        vertex, visited, total_cost = queue.popleft()\n",
    "        parent_sets = graph.graph[vertex]\n",
    "\n",
    "        if len(visited) < graph.nkeys:\n",
    "            for next_vertex,_ in parent_sets:\n",
    "                if(len(next_vertex) == 1 and next_vertex[0] not in visited):\n",
    "                    new_cost = total_cost + mcc(parent_sets, next_vertex[0], visited)\n",
    "                    new_visited = next_vertex + visited\n",
    "                    queue.append((next_vertex[0], new_visited, new_cost))\n",
    "        else:\n",
    "            emptyset, cost = graph.graph[vertex][0]\n",
    "            total_cost += cost\n",
    "            orderings.append((visited, total_cost))\n",
    "    return orderings\n",
    "\n",
    "def odfs(graph, start_vertex):\n",
    "    '''Optimzed DFS'''\n",
    "    orderings = []\n",
    "    queue = initqueue(graph, start_vertex)\n",
    "\n",
    "    while queue:\n",
    "        vertex, visited, total_cost = queue.pop()\n",
    "        parent_sets = graph.graph[vertex]\n",
    "\n",
    "        if len(visited) < graph.nkeys:\n",
    "            for next_vertex,_ in parent_sets:\n",
    "                if(len(next_vertex) == 1 and next_vertex[0] not in visited):\n",
    "                    new_cost = total_cost + mcc(parent_sets, next_vertex[0], visited)\n",
    "                    new_visited = next_vertex + visited\n",
    "                    queue.append((next_vertex[0], new_visited, new_cost))\n",
    "        else:\n",
    "            emptyset, cost = graph.graph[vertex][0]\n",
    "            total_cost += cost\n",
    "            orderings.append((visited, total_cost))\n",
    "    return orderings\n",
    "\n",
    "def oucs(graph, start_vertex):\n",
    "    '''Optimzed UCS'''\n",
    "    orderings = []\n",
    "    queue = initheap(graph, start_vertex)\n",
    "\n",
    "    while queue:\n",
    "        total_cost, vertex, visited = heapq.heappop(queue)\n",
    "        parent_sets = graph.graph[vertex]\n",
    "\n",
    "        if len(visited) < graph.nkeys:\n",
    "            for next_vertex,_ in parent_sets:\n",
    "                if(len(next_vertex) == 1 and next_vertex[0] not in visited):\n",
    "                    new_cost = total_cost + mcc(parent_sets, next_vertex[0], visited)\n",
    "                    new_visited = next_vertex + visited\n",
    "                    heapq.heappush(queue, (new_cost, next_vertex[0], new_visited))  # Add searchable ordering node to heap\n",
    "        else:\n",
    "            emptyset, cost = graph.graph[vertex][0]\n",
    "            total_cost += cost\n",
    "            orderings.append((visited, total_cost))\n",
    "    return orderings"
   ]
  },
  {
   "cell_type": "code",
   "execution_count": null,
   "metadata": {},
   "outputs": [],
   "source": [
    "algorithms = ['bfs', 'dfs', 'ucs']\n",
    "for algorithm in algorithms:\n",
    "    run_algo(algorithm)"
   ]
  },
  {
   "cell_type": "code",
   "execution_count": null,
   "metadata": {},
   "outputs": [],
   "source": []
  }
 ],
 "metadata": {
  "kernelspec": {
   "display_name": "base",
   "language": "python",
   "name": "python3"
  },
  "language_info": {
   "codemirror_mode": {
    "name": "ipython",
    "version": 3
   },
   "file_extension": ".py",
   "mimetype": "text/x-python",
   "name": "python",
   "nbconvert_exporter": "python",
   "pygments_lexer": "ipython3",
   "version": "3.11.4"
  }
 },
 "nbformat": 4,
 "nbformat_minor": 2
}
